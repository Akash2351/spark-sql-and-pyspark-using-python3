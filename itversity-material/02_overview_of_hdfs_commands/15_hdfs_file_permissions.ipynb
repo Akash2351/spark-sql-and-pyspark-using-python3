{
 "cells": [
  {
   "cell_type": "markdown",
   "metadata": {},
   "source": [
    "## HDFS File Permissions\n",
    "\n",
    "Let us go through file permissions in HDFS."
   ]
  },
  {
   "cell_type": "markdown",
   "metadata": {},
   "source": [
    "* As we create the files, we can check the permissions on them using `-ls` command.\n",
    "* Typically the owner of the user space will have **rwx**, while members of the group specified as well as others have **r-x**.\n",
    "* **rwx** stands for read, write and execute while **r-x** stands for only read and execute permissions.\n",
    "* We can change the permissions using `hadoop fs -chmod` or `hdfs dfs -chmod`. However one can change the permissions of their own files.\n",
    "* We can specify permissions mode (e.g.: `+x` to grant execute access to owner, group as well as others) as well as octal mode (e.g.: 755 to grant rwx for owner, rx for group and others)\n",
    "\n",
    "If you are not familiar with linux command chmod, we would highly recommend you to spend some time to get detailed understanding of it as it is very important with respect to file permissions."
   ]
  },
  {
   "cell_type": "code",
   "execution_count": 1,
   "metadata": {},
   "outputs": [
    {
     "name": "stdout",
     "output_type": "stream",
     "text": [
      "Found 9 items\n",
      "drwxr-xr-x   - itversity supergroup          0 2022-11-07 02:23 /user/itversity/retail_db/categories\n",
      "-rw-r--r--   1 itversity supergroup   10303297 2022-11-07 02:23 /user/itversity/retail_db/create_db.sql\n",
      "-rw-r--r--   1 itversity supergroup       1748 2022-11-07 02:23 /user/itversity/retail_db/create_db_tables_pg.sql\n",
      "drwxr-xr-x   - itversity supergroup          0 2022-11-07 02:23 /user/itversity/retail_db/customers\n",
      "drwxr-xr-x   - itversity supergroup          0 2022-11-07 02:23 /user/itversity/retail_db/departments\n",
      "-rw-r--r--   1 itversity supergroup   10297372 2022-11-07 02:23 /user/itversity/retail_db/load_db_tables_pg.sql\n",
      "drwxr-xr-x   - itversity supergroup          0 2022-11-07 02:23 /user/itversity/retail_db/order_items\n",
      "drwxr-xr-x   - itversity supergroup          0 2022-11-07 02:23 /user/itversity/retail_db/orders\n",
      "drwxr-xr-x   - itversity supergroup          0 2022-11-07 02:23 /user/itversity/retail_db/products\n"
     ]
    }
   ],
   "source": [
    "%%sh\n",
    "\n",
    "hdfs dfs -ls /user/`whoami`/retail_db"
   ]
  },
  {
   "cell_type": "markdown",
   "metadata": {},
   "source": [
    "* Granting write permissions on the folder to others."
   ]
  },
  {
   "cell_type": "code",
   "execution_count": 2,
   "metadata": {},
   "outputs": [],
   "source": [
    "%%sh\n",
    "\n",
    "hdfs dfs -chmod -R o+w /user/`whoami`/retail_db/orders"
   ]
  },
  {
   "cell_type": "code",
   "execution_count": 3,
   "metadata": {},
   "outputs": [
    {
     "name": "stdout",
     "output_type": "stream",
     "text": [
      "Found 9 items\n",
      "drwxr-xr-x   - itversity supergroup          0 2022-11-07 02:23 /user/itversity/retail_db/categories\n",
      "-rw-r--r--   1 itversity supergroup   10303297 2022-11-07 02:23 /user/itversity/retail_db/create_db.sql\n",
      "-rw-r--r--   1 itversity supergroup       1748 2022-11-07 02:23 /user/itversity/retail_db/create_db_tables_pg.sql\n",
      "drwxr-xr-x   - itversity supergroup          0 2022-11-07 02:23 /user/itversity/retail_db/customers\n",
      "drwxr-xr-x   - itversity supergroup          0 2022-11-07 02:23 /user/itversity/retail_db/departments\n",
      "-rw-r--r--   1 itversity supergroup   10297372 2022-11-07 02:23 /user/itversity/retail_db/load_db_tables_pg.sql\n",
      "drwxr-xr-x   - itversity supergroup          0 2022-11-07 02:23 /user/itversity/retail_db/order_items\n",
      "drwxr-xrwx   - itversity supergroup          0 2022-11-07 02:23 /user/itversity/retail_db/orders\n",
      "drwxr-xr-x   - itversity supergroup          0 2022-11-07 02:23 /user/itversity/retail_db/products\n"
     ]
    }
   ],
   "source": [
    "%%sh\n",
    "\n",
    "hdfs dfs -ls /user/`whoami`/retail_db"
   ]
  },
  {
   "cell_type": "markdown",
   "metadata": {},
   "source": [
    "* Granting write permissions on the folder to group."
   ]
  },
  {
   "cell_type": "code",
   "execution_count": 4,
   "metadata": {},
   "outputs": [],
   "source": [
    "%%sh\n",
    "\n",
    "hdfs dfs -chmod -R g+w /user/`whoami`/retail_db/order_items"
   ]
  },
  {
   "cell_type": "code",
   "execution_count": 5,
   "metadata": {},
   "outputs": [
    {
     "name": "stdout",
     "output_type": "stream",
     "text": [
      "Found 9 items\n",
      "drwxr-xr-x   - itversity supergroup          0 2022-11-07 02:23 /user/itversity/retail_db/categories\n",
      "-rw-r--r--   1 itversity supergroup   10303297 2022-11-07 02:23 /user/itversity/retail_db/create_db.sql\n",
      "-rw-r--r--   1 itversity supergroup       1748 2022-11-07 02:23 /user/itversity/retail_db/create_db_tables_pg.sql\n",
      "drwxr-xr-x   - itversity supergroup          0 2022-11-07 02:23 /user/itversity/retail_db/customers\n",
      "drwxr-xr-x   - itversity supergroup          0 2022-11-07 02:23 /user/itversity/retail_db/departments\n",
      "-rw-r--r--   1 itversity supergroup   10297372 2022-11-07 02:23 /user/itversity/retail_db/load_db_tables_pg.sql\n",
      "drwxrwxr-x   - itversity supergroup          0 2022-11-07 02:23 /user/itversity/retail_db/order_items\n",
      "drwxr-xrwx   - itversity supergroup          0 2022-11-07 02:23 /user/itversity/retail_db/orders\n",
      "drwxr-xr-x   - itversity supergroup          0 2022-11-07 02:23 /user/itversity/retail_db/products\n"
     ]
    }
   ],
   "source": [
    "%%sh\n",
    "\n",
    "hdfs dfs -ls /user/`whoami`/retail_db"
   ]
  },
  {
   "cell_type": "markdown",
   "metadata": {},
   "source": [
    "* We can remove write permissions for every one."
   ]
  },
  {
   "cell_type": "code",
   "execution_count": 6,
   "metadata": {},
   "outputs": [],
   "source": [
    "%%sh\n",
    "\n",
    "hdfs dfs -chmod -R -w /user/`whoami`/retail_db/orders"
   ]
  },
  {
   "cell_type": "code",
   "execution_count": 7,
   "metadata": {},
   "outputs": [
    {
     "name": "stdout",
     "output_type": "stream",
     "text": [
      "Found 9 items\n",
      "drwxr-xr-x   - itversity supergroup          0 2022-11-07 02:23 /user/itversity/retail_db/categories\n",
      "-rw-r--r--   1 itversity supergroup   10303297 2022-11-07 02:23 /user/itversity/retail_db/create_db.sql\n",
      "-rw-r--r--   1 itversity supergroup       1748 2022-11-07 02:23 /user/itversity/retail_db/create_db_tables_pg.sql\n",
      "drwxr-xr-x   - itversity supergroup          0 2022-11-07 02:23 /user/itversity/retail_db/customers\n",
      "drwxr-xr-x   - itversity supergroup          0 2022-11-07 02:23 /user/itversity/retail_db/departments\n",
      "-rw-r--r--   1 itversity supergroup   10297372 2022-11-07 02:23 /user/itversity/retail_db/load_db_tables_pg.sql\n",
      "drwxrwxr-x   - itversity supergroup          0 2022-11-07 02:23 /user/itversity/retail_db/order_items\n",
      "dr-xr-xr-x   - itversity supergroup          0 2022-11-07 02:23 /user/itversity/retail_db/orders\n",
      "drwxr-xr-x   - itversity supergroup          0 2022-11-07 02:23 /user/itversity/retail_db/products\n"
     ]
    }
   ],
   "source": [
    "%%sh\n",
    "\n",
    "hdfs dfs -ls /user/`whoami`/retail_db"
   ]
  },
  {
   "cell_type": "markdown",
   "metadata": {},
   "source": [
    "* No files can be copied to the folder or can be deleted from the folder. Below command will fail."
   ]
  },
  {
   "cell_type": "code",
   "execution_count": 8,
   "metadata": {},
   "outputs": [
    {
     "name": "stdout",
     "output_type": "stream",
     "text": [
      "Deleted /user/itversity/retail_db/orders/part-00000\n"
     ]
    }
   ],
   "source": [
    "%%sh\n",
    "\n",
    "hdfs dfs -rm /user/`whoami`/retail_db/orders/part-00000"
   ]
  },
  {
   "cell_type": "code",
   "execution_count": null,
   "metadata": {},
   "outputs": [],
   "source": [
    "%%sh\n",
    "\n",
    "hdfs dfs -chmod -R -w /user/${USER}/retail_db/order_items"
   ]
  },
  {
   "cell_type": "code",
   "execution_count": null,
   "metadata": {},
   "outputs": [],
   "source": [
    "%%sh\n",
    "\n",
    "hdfs dfs -ls /user/${USER}/retail_db"
   ]
  },
  {
   "cell_type": "markdown",
   "metadata": {},
   "source": [
    "* Adding write permissions only to owner. Now the owner will be able to delete the file, but others cannot."
   ]
  },
  {
   "cell_type": "code",
   "execution_count": null,
   "metadata": {},
   "outputs": [],
   "source": [
    "%%sh\n",
    "\n",
    "hdfs dfs -chmod -R u+w /user/${USER}/retail_db/orders"
   ]
  },
  {
   "cell_type": "code",
   "execution_count": null,
   "metadata": {},
   "outputs": [],
   "source": [
    "%%sh\n",
    "\n",
    "hdfs dfs -rm /user/${USER}/retail_db/orders/part-00000"
   ]
  },
  {
   "cell_type": "code",
   "execution_count": null,
   "metadata": {},
   "outputs": [],
   "source": [
    "%%sh\n",
    "\n",
    "hdfs dfs -chmod -R u+w /user/${USER}/retail_db/order_items"
   ]
  },
  {
   "cell_type": "code",
   "execution_count": null,
   "metadata": {},
   "outputs": [],
   "source": [
    "%%sh\n",
    "\n",
    "hdfs dfs -ls /user/${USER}/retail_db"
   ]
  },
  {
   "cell_type": "markdown",
   "metadata": {},
   "source": [
    "* Let us go through the details using octal format."
   ]
  },
  {
   "cell_type": "code",
   "execution_count": null,
   "metadata": {},
   "outputs": [],
   "source": [
    "%%sh\n",
    "\n",
    "hdfs dfs -ls /user/${USER}/retail_db"
   ]
  },
  {
   "cell_type": "markdown",
   "metadata": {},
   "source": [
    "* Granting write permissions on the folder to others. We can set these permissions for owner, group and other.\n",
    "\n",
    "|Binary Value|Permissions Mode|Decimal Value\n",
    "|---|---|---|\n",
    "|000|---|0|\n",
    "|001|--x|1|\n",
    "|010|-w-|2|\n",
    "|011|-wx|3|\n",
    "|100|r--|4|\n",
    "|101|r-x|5|\n",
    "|110|rw-|6|\n",
    "|111|rwx|7|\n"
   ]
  },
  {
   "cell_type": "markdown",
   "metadata": {},
   "source": [
    "* Granting write permissions on the folder to others."
   ]
  },
  {
   "cell_type": "code",
   "execution_count": null,
   "metadata": {},
   "outputs": [],
   "source": [
    "%%sh\n",
    "\n",
    "hdfs dfs -chmod -R 757  /user/${USER}/retail_db/orders"
   ]
  },
  {
   "cell_type": "code",
   "execution_count": null,
   "metadata": {},
   "outputs": [],
   "source": [
    "%%sh\n",
    "\n",
    "hdfs dfs -ls /user/${USER}/retail_db"
   ]
  },
  {
   "cell_type": "markdown",
   "metadata": {},
   "source": [
    "* Granting write permissions on the folder to group."
   ]
  },
  {
   "cell_type": "code",
   "execution_count": null,
   "metadata": {},
   "outputs": [],
   "source": [
    "%%sh\n",
    "\n",
    "hdfs dfs -chmod -R 775 /user/${USER}/retail_db/order_items"
   ]
  },
  {
   "cell_type": "code",
   "execution_count": null,
   "metadata": {},
   "outputs": [],
   "source": [
    "%%sh\n",
    "\n",
    "hdfs dfs -ls /user/${USER}/retail_db"
   ]
  },
  {
   "cell_type": "markdown",
   "metadata": {},
   "source": [
    "* We can remove write permissions for every one."
   ]
  },
  {
   "cell_type": "code",
   "execution_count": null,
   "metadata": {},
   "outputs": [],
   "source": [
    "%%sh\n",
    "\n",
    "hdfs dfs -chmod -R 555 /user/${USER}/retail_db/orders"
   ]
  },
  {
   "cell_type": "code",
   "execution_count": null,
   "metadata": {},
   "outputs": [],
   "source": [
    "%%sh\n",
    "\n",
    "hdfs dfs -chmod -R 555 /user/${USER}/retail_db/order_items"
   ]
  },
  {
   "cell_type": "code",
   "execution_count": null,
   "metadata": {},
   "outputs": [],
   "source": [
    "%%sh\n",
    "\n",
    "hdfs dfs -ls /user/${USER}/retail_db"
   ]
  },
  {
   "cell_type": "markdown",
   "metadata": {},
   "source": [
    "* Adding write permissions only to owner."
   ]
  },
  {
   "cell_type": "code",
   "execution_count": null,
   "metadata": {},
   "outputs": [],
   "source": [
    "%%sh\n",
    "\n",
    "hdfs dfs -chmod -R 755 /user/${USER}/retail_db/orders"
   ]
  },
  {
   "cell_type": "code",
   "execution_count": null,
   "metadata": {},
   "outputs": [],
   "source": [
    "%%sh\n",
    "\n",
    "hdfs dfs -chmod -R 755 /user/${USER}/retail_db/order_items"
   ]
  },
  {
   "cell_type": "code",
   "execution_count": null,
   "metadata": {},
   "outputs": [],
   "source": [
    "%%sh\n",
    "\n",
    "hdfs dfs -ls /user/${USER}/retail_db"
   ]
  },
  {
   "cell_type": "code",
   "execution_count": 9,
   "metadata": {},
   "outputs": [],
   "source": [
    "%%sh\n",
    "\n",
    "hdfs dfs -put -f /data/retail_db /user/`whoami`"
   ]
  },
  {
   "cell_type": "code",
   "execution_count": null,
   "outputs": [],
   "source": [],
   "metadata": {
    "collapsed": false
   }
  }
 ],
 "metadata": {
  "kernelspec": {
   "display_name": "Python 3 (ipykernel)",
   "language": "python",
   "name": "python3"
  },
  "language_info": {
   "codemirror_mode": {
    "name": "ipython",
    "version": 3
   },
   "file_extension": ".py",
   "mimetype": "text/x-python",
   "name": "python",
   "nbconvert_exporter": "python",
   "pygments_lexer": "ipython3",
   "version": "3.7.12"
  }
 },
 "nbformat": 4,
 "nbformat_minor": 4
}
